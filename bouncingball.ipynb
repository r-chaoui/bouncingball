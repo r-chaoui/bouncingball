{
 "cells": [
  {
   "cell_type": "code",
   "execution_count": 1,
   "metadata": {},
   "outputs": [],
   "source": [
    "import cv2\n",
    "import numpy as np"
   ]
  },
  {
   "cell_type": "code",
   "execution_count": 5,
   "metadata": {},
   "outputs": [],
   "source": [
    "background_image= cv2.imread(\"background_image.PNG\")\n",
    "gray_background = cv2.cvtColor(background_image, cv2.COLOR_BGR2GRAY)\n",
    "height, width, _ = background_image.shape\n",
    "ball_radius=35\n",
    "ball_color =(0,0,0)\n",
    "\n",
    "ball_x=width // 2\n",
    "ball_y=231\n",
    "speed=10\n",
    "velocity_x= speed\n",
    "velocity_y=speed\n",
    "fourcc=cv2.VideoWriter_fourcc(*'mp4v')\n",
    "video_out=cv2.VideoWriter('bouncing_ball_video.mp4',fourcc,30,(width,height))"
   ]
  },
  {
   "cell_type": "code",
   "execution_count": 6,
   "metadata": {},
   "outputs": [],
   "source": [
    "def draw_frame(frame,ball_x,ball_y,ball_radious,ball_color):\n",
    "    frame[:]= background_image\n",
    "    cv2.circle(frame,(int(ball_x),int(ball_y)),ball_radious,ball_color,-1)\n",
    "\n",
    "def check_collision(ball_x,ball_y):\n",
    "    search_radius = ball_radius +1\n",
    "    search_region = gray_background[int(ball_y) - search_radius:int (ball_y)+search_radius+1,int(ball_x)+search_radius+1\n",
    "    ]\n",
    "    return np.any(search_region< 50)\n",
    "\n",
    "    "
   ]
  },
  {
   "cell_type": "markdown",
   "metadata": {},
   "source": [
    "cv2.imread loads the background image from the file \"background_image.PNG\".\n",
    "cv2.cvtColor converts the background image to grayscale, though the grayscale version is not used later in the script.\n",
    "The dimensions (height and width) of the background image are extracted to set the frame size for the video."
   ]
  },
  {
   "cell_type": "code",
   "execution_count": 7,
   "metadata": {},
   "outputs": [],
   "source": [
    "num_frames = 30 * 60  # 30 frames per second for 60 seconds\n",
    "\n",
    "for i in range(num_frames):\n",
    "    frame = np.zeros((height, width, 3), dtype=np.uint8) #Creates a blank frame of the same dimensions as the background image, initialized to black (all zeros).\n",
    "    ball_x += velocity_x #Updates the ball's horizontal position based on its current velocity.\n",
    "    ball_y += velocity_y #Updates the ball's vertical position based on its current velocity.\n",
    "\n",
    "    if check_collision(ball_x, ball_y): #Checks for a collision at the ball's current position. The collision detection logic is not defined here but is intended to return a boolean value.\n",
    "        pixel_color = None\n",
    "        if velocity_x > 0:\n",
    "            pixel_color = background_image[int(ball_y), int(ball_x) + ball_radius]\n",
    "        elif velocity_x < 0:\n",
    "            pixel_color = background_image[int(ball_y), int(ball_x) - ball_radius]\n",
    "\n",
    "        if np.all(pixel_color < 50): #checks if the pixel color is very dark (almost black), which is considered a collision.\n",
    "            velocity_x *= -1\n",
    "\n",
    "        if velocity_y > 0:\n",
    "            pixel_color = background_image[int(ball_y) + ball_radius, int(ball_x)]\n",
    "        elif velocity_y < 0:\n",
    "            pixel_color = background_image[int(ball_y) - ball_radius, int(ball_x)]\n",
    "\n",
    "        if np.all(pixel_color < 50):\n",
    "            velocity_y *= -1\n",
    "\n",
    "    if ball_x - ball_radius < 0: \n",
    "        ball_x = ball_radius\n",
    "        velocity_x *= -1\n",
    "    elif ball_x + ball_radius > width:\n",
    "        ball_x = width - ball_radius - 1\n",
    "        velocity_x *= -1\n",
    "\n",
    "    if ball_y - ball_radius < 0:\n",
    "        ball_y = ball_radius\n",
    "        velocity_y *= -1\n",
    "    elif ball_y + ball_radius > height:\n",
    "        ball_y = height - ball_radius - 1\n",
    "        velocity_y *= -1\n",
    "#These conditions check if the ball has hit the frame boundaries (left, right, top, bottom).\n",
    "#If the ball hits a boundary, it resets the ball's position to stay within the frame \n",
    "#and reverses its velocity to simulate a bounce.\n",
    "\n",
    "    draw_frame(frame, ball_x, ball_y, ball_radius, ball_color) #Draws the ball on the current frame at the updated position.\n",
    "    video_out.write(frame) #Writes the current frame to the video file.\n",
    "\n",
    "video_out.release() #Releases the video writer object, finalizing and saving the video file."
   ]
  }
 ],
 "metadata": {
  "kernelspec": {
   "display_name": "Python 3",
   "language": "python",
   "name": "python3"
  },
  "language_info": {
   "codemirror_mode": {
    "name": "ipython",
    "version": 3
   },
   "file_extension": ".py",
   "mimetype": "text/x-python",
   "name": "python",
   "nbconvert_exporter": "python",
   "pygments_lexer": "ipython3",
   "version": "3.10.7"
  }
 },
 "nbformat": 4,
 "nbformat_minor": 2
}
